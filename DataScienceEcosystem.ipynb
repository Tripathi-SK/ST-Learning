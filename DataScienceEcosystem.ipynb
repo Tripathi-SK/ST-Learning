{
 "cells": [
  {
   "cell_type": "markdown",
   "id": "7d400216-6830-4049-9a06-94b04a931801",
   "metadata": {},
   "source": [
    "# Data Science Tools and Ecosystem"
   ]
  },
  {
   "cell_type": "markdown",
   "id": "e2d96f99-e1fe-4d83-b97a-3b66891416ba",
   "metadata": {},
   "source": [
    "## In this notebook, Data Science Tools and Ecosysytems are summarized."
   ]
  },
  {
   "cell_type": "markdown",
   "id": "39844868-2f0d-45ed-a961-c227e253d62d",
   "metadata": {},
   "source": [
    "### Some of the popular languages that Data Scientists use are:\n",
    "1 Python\n",
    "2 R\n",
    "3 SQL"
   ]
  },
  {
   "cell_type": "markdown",
   "id": "50e3a03a-0481-42fa-8fe2-75388bf8fa4b",
   "metadata": {},
   "source": [
    "# Some of the commonly used libraries used by Data Scientists include:\n",
    "1 NumPy\n",
    "2 Panadas\n",
    "3 Matplotlib\n",
    "4 Scikit"
   ]
  },
  {
   "cell_type": "markdown",
   "id": "b1551a3a-223c-4cad-9fa6-c7b88f0d87fd",
   "metadata": {},
   "source": [
    "| Data Science Tools |\n",
    "| ------------------ |\n",
    "| Jupyter Notebook |\n",
    "| Anaconda |\n",
    "| MySQL|\n",
    "| Github |"
   ]
  },
  {
   "cell_type": "markdown",
   "id": "82003896-e2bf-4838-bd78-457aa43f6225",
   "metadata": {},
   "source": [
    "### Below are a few examples of evaluating arithmetic expressions in Python"
   ]
  },
  {
   "cell_type": "code",
   "execution_count": 9,
   "id": "e165c25f-3d06-43fc-9d6d-19d5af29c743",
   "metadata": {},
   "outputs": [
    {
     "data": {
      "text/plain": [
       "17"
      ]
     },
     "execution_count": 9,
     "metadata": {},
     "output_type": "execute_result"
    }
   ],
   "source": [
    "# This a simple arithmetic expression to mutiply then add integers\n",
    "(3*4)+5\n"
   ]
  },
  {
   "cell_type": "code",
   "execution_count": 13,
   "id": "b01a6224-4f3a-4601-9c8f-64e602b277bb",
   "metadata": {},
   "outputs": [
    {
     "name": "stdout",
     "output_type": "stream",
     "text": [
      "3.3333333333333335\n"
     ]
    }
   ],
   "source": [
    "# This will convert 200 minutes to hours by diving by 60\n",
    "x= (200/60)\n",
    "print(x)"
   ]
  },
  {
   "cell_type": "markdown",
   "id": "80b0860f-1c96-4204-b7db-5f7cac8fcdb9",
   "metadata": {},
   "source": [
    "|_Objectives:_|\n",
    "---------------------\n",
    "|1.List popular languages for data science|\n",
    "|2. List popular tools for data science|\n",
    "|3. list the name of relational databases|\n",
    "|4. list popular tools for AI/ML|\n"
   ]
  },
  {
   "cell_type": "markdown",
   "id": "990a859b-6450-46c4-97e1-5397d929a91e",
   "metadata": {},
   "source": [
    "_Author_\n",
    "----------\n",
    "Sam Shanu is the author of this line."
   ]
  },
  {
   "cell_type": "code",
   "execution_count": null,
   "id": "bbe8a4af-c71b-4d9d-a231-23f4bf235afe",
   "metadata": {},
   "outputs": [],
   "source": []
  }
 ],
 "metadata": {
  "kernelspec": {
   "display_name": "Python 3 (ipykernel)",
   "language": "python",
   "name": "python3"
  },
  "language_info": {
   "codemirror_mode": {
    "name": "ipython",
    "version": 3
   },
   "file_extension": ".py",
   "mimetype": "text/x-python",
   "name": "python",
   "nbconvert_exporter": "python",
   "pygments_lexer": "ipython3",
   "version": "3.12.4"
  }
 },
 "nbformat": 4,
 "nbformat_minor": 5
}
